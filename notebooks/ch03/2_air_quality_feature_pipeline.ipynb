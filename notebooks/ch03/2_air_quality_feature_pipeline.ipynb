{
 "cells": [
  {
   "cell_type": "markdown",
   "id": "a9e46aad",
   "metadata": {},
   "source": [
    "<span style=\"font-width:bold; font-size: 3rem; color:#333;\">- Part 02: Daily Feature Pipeline for Air Quality (aqicn.org) and weather (openmeteo)</span>\n",
    "\n",
    "## 🗒️ This notebook is divided into the following sections:\n",
    "1. Download and Parse Data\n",
    "2. Feature Group Insertion\n",
    "\n",
    "\n",
    "__This notebook should be scheduled to run daily__\n",
    "\n",
    "In the book, we use a GitHub Action stored here:\n",
    "[.github/workflows/air-quality-daily.yml](https://github.com/featurestorebook/mlfs-book/blob/main/.github/workflows/air-quality-daily.yml)\n",
    "\n",
    "However, you are free to use any Python Orchestration tool to schedule this program to run daily."
   ]
  },
  {
   "cell_type": "markdown",
   "id": "cfe638c6",
   "metadata": {},
   "source": [
    "### <span style='color:#ff5f27'> 📝 Imports"
   ]
  },
  {
   "cell_type": "code",
   "execution_count": 1,
   "id": "7de2e93a",
   "metadata": {
    "ExecuteTime": {
     "end_time": "2024-11-20T10:55:47.727180600Z",
     "start_time": "2024-11-20T10:55:43.780150700Z"
    }
   },
   "outputs": [],
   "source": [
    "import datetime\n",
    "import time\n",
    "import requests\n",
    "import pandas as pd\n",
    "import hopsworks\n",
    "from functions import util\n",
    "import json\n",
    "import os\n",
    "import warnings\n",
    "warnings.filterwarnings(\"ignore\")"
   ]
  },
  {
   "cell_type": "markdown",
   "id": "da6081d1",
   "metadata": {},
   "source": [
    "## <span style='color:#ff5f27'> 🌍 Get the Sensor URL, Country, City, Street names from Hopsworks </span>\n",
    "\n",
    "__Update the values in the cell below.__\n",
    "\n",
    "__These should be the same values as in notebook 1 - the feature backfill notebook__\n"
   ]
  },
  {
   "cell_type": "code",
   "execution_count": 2,
   "id": "b70cd57d",
   "metadata": {
    "tags": [],
    "ExecuteTime": {
     "end_time": "2024-11-20T10:55:50.426015500Z",
     "start_time": "2024-11-20T10:55:47.731181800Z"
    }
   },
   "outputs": [
    {
     "name": "stdout",
     "output_type": "stream",
     "text": [
      "Connected. Call `.close()` to terminate connection gracefully.\n",
      "\n",
      "Logged in to project, explore it here https://c.app.hopsworks.ai:443/p/1169561\n",
      "Connected. Call `.close()` to terminate connection gracefully.\n",
      "Connected. Call `.close()` to terminate connection gracefully.\n"
     ]
    },
    {
     "data": {
      "text/plain": "'{\"country\": \"germany\", \"city\": \"rheinlandpfalz\", \"street\": \"Mainz-Parcusstra\\\\u00dfe\", \"aqicn_url\": \"https://api.waqi.info/feed/@6135\", \"latitude\": \"50.0002\", \"longitude\": \"8.1538\"}'"
     },
     "execution_count": 2,
     "metadata": {},
     "output_type": "execute_result"
    }
   ],
   "source": [
    "# If you haven't set the env variable 'HOPSWORKS_API_KEY', then uncomment the next line and enter your API key\n",
    "os.environ[\"HOPSWORKS_API_KEY\"] = \"c360klTVehII8xXY.u3NgrKOFiZgjt7SoRKxdWLivKdWkO13v87yBjmGvtdI69MBbCP6mYfKiVGbtsU2I\"\n",
    "\n",
    "project = hopsworks.login()\n",
    "fs = project.get_feature_store() \n",
    "secrets = util.secrets_api(project.name)\n",
    "\n",
    "# This line will fail if you have not registered the AQI_API_KEY as a secret in Hopsworks\n",
    "AQI_API_KEY = secrets.get_secret(\"AQI_API_KEY\").value\n",
    "location_str = secrets.get_secret(\"SENSOR_LOCATION_JSON\").value\n",
    "location = json.loads(location_str)\n",
    "\n",
    "country=location['country']\n",
    "city=location['city']\n",
    "street=location['street']\n",
    "aqicn_url=location['aqicn_url']\n",
    "latitude=location['latitude']\n",
    "longitude=location['longitude']\n",
    "\n",
    "today = datetime.date.today()\n",
    "\n",
    "location_str"
   ]
  },
  {
   "cell_type": "markdown",
   "id": "2caf9289",
   "metadata": {},
   "source": [
    "### <span style=\"color:#ff5f27;\"> 🔮 Get references to the Feature Groups </span>"
   ]
  },
  {
   "cell_type": "code",
   "execution_count": 3,
   "id": "66f5d7d5",
   "metadata": {
    "ExecuteTime": {
     "end_time": "2024-11-20T10:55:51.036085900Z",
     "start_time": "2024-11-20T10:55:50.429014400Z"
    }
   },
   "outputs": [],
   "source": [
    "# Retrieve feature groups\n",
    "air_quality_fg = fs.get_feature_group(\n",
    "    name='air_quality',\n",
    "    version=1,\n",
    ")\n",
    "weather_fg = fs.get_feature_group(\n",
    "    name='weather',\n",
    "    version=1,\n",
    ")"
   ]
  },
  {
   "cell_type": "code",
   "execution_count": 4,
   "outputs": [
    {
     "name": "stdout",
     "output_type": "stream",
     "text": [
      "Finished: Reading data from Hopsworks, using Hopsworks Feature Query Service (0.81s) \n"
     ]
    },
    {
     "data": {
      "text/plain": "                       date  pm25\n0 2014-10-03 00:00:00+00:00  61.0\n1 2018-06-09 00:00:00+00:00  51.0\n2 2015-07-07 00:00:00+00:00  33.0\n3 2023-03-15 00:00:00+00:00  13.0\n4 2014-10-07 00:00:00+00:00  42.0\n5 2023-12-22 00:00:00+00:00   9.0\n6 2015-10-03 00:00:00+00:00  57.0\n7 2015-06-09 00:00:00+00:00  24.0\n8 2016-02-01 00:00:00+00:00  16.0\n9 2018-06-05 00:00:00+00:00  32.0",
      "text/html": "<div>\n<style scoped>\n    .dataframe tbody tr th:only-of-type {\n        vertical-align: middle;\n    }\n\n    .dataframe tbody tr th {\n        vertical-align: top;\n    }\n\n    .dataframe thead th {\n        text-align: right;\n    }\n</style>\n<table border=\"1\" class=\"dataframe\">\n  <thead>\n    <tr style=\"text-align: right;\">\n      <th></th>\n      <th>date</th>\n      <th>pm25</th>\n    </tr>\n  </thead>\n  <tbody>\n    <tr>\n      <th>0</th>\n      <td>2014-10-03 00:00:00+00:00</td>\n      <td>61.0</td>\n    </tr>\n    <tr>\n      <th>1</th>\n      <td>2018-06-09 00:00:00+00:00</td>\n      <td>51.0</td>\n    </tr>\n    <tr>\n      <th>2</th>\n      <td>2015-07-07 00:00:00+00:00</td>\n      <td>33.0</td>\n    </tr>\n    <tr>\n      <th>3</th>\n      <td>2023-03-15 00:00:00+00:00</td>\n      <td>13.0</td>\n    </tr>\n    <tr>\n      <th>4</th>\n      <td>2014-10-07 00:00:00+00:00</td>\n      <td>42.0</td>\n    </tr>\n    <tr>\n      <th>5</th>\n      <td>2023-12-22 00:00:00+00:00</td>\n      <td>9.0</td>\n    </tr>\n    <tr>\n      <th>6</th>\n      <td>2015-10-03 00:00:00+00:00</td>\n      <td>57.0</td>\n    </tr>\n    <tr>\n      <th>7</th>\n      <td>2015-06-09 00:00:00+00:00</td>\n      <td>24.0</td>\n    </tr>\n    <tr>\n      <th>8</th>\n      <td>2016-02-01 00:00:00+00:00</td>\n      <td>16.0</td>\n    </tr>\n    <tr>\n      <th>9</th>\n      <td>2018-06-05 00:00:00+00:00</td>\n      <td>32.0</td>\n    </tr>\n  </tbody>\n</table>\n</div>"
     },
     "execution_count": 4,
     "metadata": {},
     "output_type": "execute_result"
    }
   ],
   "source": [
    "air_quality_fg.select([\"date\", \"pm25\"]).show(10)"
   ],
   "metadata": {
    "collapsed": false,
    "ExecuteTime": {
     "end_time": "2024-11-20T10:55:53.237767200Z",
     "start_time": "2024-11-20T10:55:51.040084900Z"
    }
   }
  },
  {
   "cell_type": "markdown",
   "id": "e10b6ce8",
   "metadata": {},
   "source": [
    "---"
   ]
  },
  {
   "cell_type": "markdown",
   "id": "1a7ffa41",
   "metadata": {},
   "source": [
    "## <span style='color:#ff5f27'> 🌫 Retrieve Today's Air Quality data (PM2.5) from the AQI API</span>\n"
   ]
  },
  {
   "cell_type": "code",
   "execution_count": 5,
   "id": "6f681af6",
   "metadata": {
    "ExecuteTime": {
     "end_time": "2024-11-20T10:55:58.769031100Z",
     "start_time": "2024-11-20T10:55:53.241767200Z"
    }
   },
   "outputs": [
    {
     "name": "stdout",
     "output_type": "stream",
     "text": [
      "2024-11-19 00:00:00\n",
      "2024-11-20 11:55:53.241767\n",
      "Finished: Reading data from Hopsworks, using Hopsworks Feature Query Service (0.69s) \n",
      "Finished: Reading data from Hopsworks, using Hopsworks Feature Query Service (0.85s) \n",
      "Finished: Reading data from Hopsworks, using Hopsworks Feature Query Service (1.09s) \n"
     ]
    },
    {
     "data": {
      "text/plain": "   pm25  country            city              street       date  \\\n0   5.0  germany  rheinlandpfalz  Mainz-Parcusstraße 2024-11-20   \n\n                                url  pm25_one_day_ago  pm25_two_day_ago  \\\n0  https://api.waqi.info/feed/@6135               5.0               5.0   \n\n   pm25_three_day_ago  \n0                59.0  ",
      "text/html": "<div>\n<style scoped>\n    .dataframe tbody tr th:only-of-type {\n        vertical-align: middle;\n    }\n\n    .dataframe tbody tr th {\n        vertical-align: top;\n    }\n\n    .dataframe thead th {\n        text-align: right;\n    }\n</style>\n<table border=\"1\" class=\"dataframe\">\n  <thead>\n    <tr style=\"text-align: right;\">\n      <th></th>\n      <th>pm25</th>\n      <th>country</th>\n      <th>city</th>\n      <th>street</th>\n      <th>date</th>\n      <th>url</th>\n      <th>pm25_one_day_ago</th>\n      <th>pm25_two_day_ago</th>\n      <th>pm25_three_day_ago</th>\n    </tr>\n  </thead>\n  <tbody>\n    <tr>\n      <th>0</th>\n      <td>5.0</td>\n      <td>germany</td>\n      <td>rheinlandpfalz</td>\n      <td>Mainz-Parcusstraße</td>\n      <td>2024-11-20</td>\n      <td>https://api.waqi.info/feed/@6135</td>\n      <td>5.0</td>\n      <td>5.0</td>\n      <td>59.0</td>\n    </tr>\n  </tbody>\n</table>\n</div>"
     },
     "execution_count": 5,
     "metadata": {},
     "output_type": "execute_result"
    }
   ],
   "source": [
    "import requests\n",
    "import pandas as pd\n",
    "from datetime import timezone\n",
    "from hsfs.feature import Feature\n",
    "import calendar\n",
    "\n",
    "one_day_ago = (datetime.date.today() - datetime.timedelta(days=1))\n",
    "two_day_ago = (datetime.date.today() - datetime.timedelta(days=2))\n",
    "three_day_ago = (datetime.date.today() - datetime.timedelta(days=3))\n",
    "\n",
    "one_day_ago = datetime.datetime(one_day_ago.year, one_day_ago.month, one_day_ago.day)\n",
    "two_day_ago = datetime.datetime(two_day_ago.year, two_day_ago.month, two_day_ago.day)\n",
    "three_day_ago = datetime.datetime(three_day_ago.year, three_day_ago.month, three_day_ago.day)\n",
    "\n",
    "#one_day_ago = one_day_ago.replace(tzinfo=timezone.utc)\n",
    "#two_day_ago = two_day_ago.replace(tzinfo=timezone.utc)\n",
    "#three_day_ago = three_day_ago.replace(tzinfo=timezone.utc)\n",
    "print(one_day_ago)\n",
    "print(datetime.datetime.today())\n",
    "\n",
    "df_one_ago = air_quality_fg.select(['date','pm25']).filter(air_quality_fg.date == one_day_ago).show(1)\n",
    "df_two_ago = air_quality_fg.select(['date','pm25']).filter(air_quality_fg.date == two_day_ago).show(1)\n",
    "df_three_ago = air_quality_fg.select(['date','pm25']).filter(air_quality_fg.date == three_day_ago).show(1)\n",
    "\n",
    "#print(air_quality_fg.select(['date', 'pm25']).filter((air_quality_fg.date < one_day_ago) & (air_quality_fg.date > two_day_ago)).show(1))\n",
    "#print(air_quality_fg.select(['date','pm25']).filter(air_quality_fg.date == two_day_ago).show(1))\n",
    "#print(air_quality_fg.select(['date','pm25']).filter(air_quality_fg.date == three_day_ago).show(1))\n",
    "\n",
    "aq_today_df = util.get_pm25(aqicn_url, country, city, street, today, AQI_API_KEY)\n",
    "aq_today_df[\"pm25_one_day_ago\"] = df_one_ago[\"pm25\"]\n",
    "aq_today_df[\"pm25_two_day_ago\"] = df_two_ago[\"pm25\"]\n",
    "aq_today_df[\"pm25_three_day_ago\"] = df_three_ago[\"pm25\"]\n",
    "aq_today_df"
   ]
  },
  {
   "cell_type": "code",
   "execution_count": 6,
   "id": "b9e24eda",
   "metadata": {
    "ExecuteTime": {
     "end_time": "2024-11-20T10:55:58.853553500Z",
     "start_time": "2024-11-20T10:55:58.772297200Z"
    }
   },
   "outputs": [
    {
     "name": "stdout",
     "output_type": "stream",
     "text": [
      "<class 'pandas.core.frame.DataFrame'>\n",
      "RangeIndex: 1 entries, 0 to 0\n",
      "Data columns (total 9 columns):\n",
      " #   Column              Non-Null Count  Dtype         \n",
      "---  ------              --------------  -----         \n",
      " 0   pm25                1 non-null      float32       \n",
      " 1   country             1 non-null      object        \n",
      " 2   city                1 non-null      object        \n",
      " 3   street              1 non-null      object        \n",
      " 4   date                1 non-null      datetime64[ns]\n",
      " 5   url                 1 non-null      object        \n",
      " 6   pm25_one_day_ago    1 non-null      float32       \n",
      " 7   pm25_two_day_ago    1 non-null      float32       \n",
      " 8   pm25_three_day_ago  1 non-null      float32       \n",
      "dtypes: datetime64[ns](1), float32(4), object(4)\n",
      "memory usage: 184.0+ bytes\n"
     ]
    }
   ],
   "source": [
    "aq_today_df.info()"
   ]
  },
  {
   "cell_type": "markdown",
   "id": "af845ab6",
   "metadata": {},
   "source": [
    "## <span style='color:#ff5f27'> 🌦 Get Weather Forecast data</span>"
   ]
  },
  {
   "cell_type": "code",
   "execution_count": 7,
   "id": "d2ecb3e7",
   "metadata": {
    "ExecuteTime": {
     "end_time": "2024-11-20T10:55:58.990651100Z",
     "start_time": "2024-11-20T10:55:58.801534900Z"
    }
   },
   "outputs": [
    {
     "name": "stdout",
     "output_type": "stream",
     "text": [
      "Coordinates 50.0°N 8.25°E\n",
      "Elevation 163.0 m asl\n",
      "Timezone None None\n",
      "Timezone difference to GMT+0 0 s\n"
     ]
    },
    {
     "data": {
      "text/plain": "        date  temperature_2m_mean  precipitation_sum  wind_speed_10m_max  \\\n0 2024-11-20                 4.50                0.3           22.705700   \n1 2024-11-21                 2.65                0.0           11.966954   \n2 2024-11-22                 3.00                0.0           22.473343   \n3 2024-11-23                 4.60                0.0           14.512064   \n4 2024-11-24                15.35                0.0           15.790833   \n5 2024-11-25                12.10                0.0            5.483356   \n6 2024-11-26                11.05                0.0           17.848160   \n7 2024-11-27                 9.00                0.0           15.175612   \n8 2024-11-28                 5.80                0.0            2.099143   \n9 2024-11-29                 6.45                0.3            8.280000   \n\n   wind_direction_10m_dominant            city  \n0                   267.273743  rheinlandpfalz  \n1                   223.781204  rheinlandpfalz  \n2                   234.782318  rheinlandpfalz  \n3                   203.385239  rheinlandpfalz  \n4                   204.227737  rheinlandpfalz  \n5                   113.198624  rheinlandpfalz  \n6                   228.270584  rheinlandpfalz  \n7                   247.693741  rheinlandpfalz  \n8                   120.963692  rheinlandpfalz  \n9                   180.000000  rheinlandpfalz  ",
      "text/html": "<div>\n<style scoped>\n    .dataframe tbody tr th:only-of-type {\n        vertical-align: middle;\n    }\n\n    .dataframe tbody tr th {\n        vertical-align: top;\n    }\n\n    .dataframe thead th {\n        text-align: right;\n    }\n</style>\n<table border=\"1\" class=\"dataframe\">\n  <thead>\n    <tr style=\"text-align: right;\">\n      <th></th>\n      <th>date</th>\n      <th>temperature_2m_mean</th>\n      <th>precipitation_sum</th>\n      <th>wind_speed_10m_max</th>\n      <th>wind_direction_10m_dominant</th>\n      <th>city</th>\n    </tr>\n  </thead>\n  <tbody>\n    <tr>\n      <th>0</th>\n      <td>2024-11-20</td>\n      <td>4.50</td>\n      <td>0.3</td>\n      <td>22.705700</td>\n      <td>267.273743</td>\n      <td>rheinlandpfalz</td>\n    </tr>\n    <tr>\n      <th>1</th>\n      <td>2024-11-21</td>\n      <td>2.65</td>\n      <td>0.0</td>\n      <td>11.966954</td>\n      <td>223.781204</td>\n      <td>rheinlandpfalz</td>\n    </tr>\n    <tr>\n      <th>2</th>\n      <td>2024-11-22</td>\n      <td>3.00</td>\n      <td>0.0</td>\n      <td>22.473343</td>\n      <td>234.782318</td>\n      <td>rheinlandpfalz</td>\n    </tr>\n    <tr>\n      <th>3</th>\n      <td>2024-11-23</td>\n      <td>4.60</td>\n      <td>0.0</td>\n      <td>14.512064</td>\n      <td>203.385239</td>\n      <td>rheinlandpfalz</td>\n    </tr>\n    <tr>\n      <th>4</th>\n      <td>2024-11-24</td>\n      <td>15.35</td>\n      <td>0.0</td>\n      <td>15.790833</td>\n      <td>204.227737</td>\n      <td>rheinlandpfalz</td>\n    </tr>\n    <tr>\n      <th>5</th>\n      <td>2024-11-25</td>\n      <td>12.10</td>\n      <td>0.0</td>\n      <td>5.483356</td>\n      <td>113.198624</td>\n      <td>rheinlandpfalz</td>\n    </tr>\n    <tr>\n      <th>6</th>\n      <td>2024-11-26</td>\n      <td>11.05</td>\n      <td>0.0</td>\n      <td>17.848160</td>\n      <td>228.270584</td>\n      <td>rheinlandpfalz</td>\n    </tr>\n    <tr>\n      <th>7</th>\n      <td>2024-11-27</td>\n      <td>9.00</td>\n      <td>0.0</td>\n      <td>15.175612</td>\n      <td>247.693741</td>\n      <td>rheinlandpfalz</td>\n    </tr>\n    <tr>\n      <th>8</th>\n      <td>2024-11-28</td>\n      <td>5.80</td>\n      <td>0.0</td>\n      <td>2.099143</td>\n      <td>120.963692</td>\n      <td>rheinlandpfalz</td>\n    </tr>\n    <tr>\n      <th>9</th>\n      <td>2024-11-29</td>\n      <td>6.45</td>\n      <td>0.3</td>\n      <td>8.280000</td>\n      <td>180.000000</td>\n      <td>rheinlandpfalz</td>\n    </tr>\n  </tbody>\n</table>\n</div>"
     },
     "execution_count": 7,
     "metadata": {},
     "output_type": "execute_result"
    }
   ],
   "source": [
    "hourly_df = util.get_hourly_weather_forecast(city, latitude, longitude)\n",
    "hourly_df = hourly_df.set_index('date')\n",
    "\n",
    "# We will only make 1 daily prediction, so we will replace the hourly forecasts with a single daily forecast\n",
    "# We only want the daily weather data, so only get weather at 12:00\n",
    "daily_df = hourly_df.between_time('11:59', '12:01')\n",
    "daily_df = daily_df.reset_index()\n",
    "daily_df['date'] = pd.to_datetime(daily_df['date']).dt.date\n",
    "daily_df['date'] = pd.to_datetime(daily_df['date'])\n",
    "daily_df['city'] = city\n",
    "daily_df"
   ]
  },
  {
   "cell_type": "code",
   "execution_count": 8,
   "id": "4c563109",
   "metadata": {
    "ExecuteTime": {
     "end_time": "2024-11-20T10:55:59.035510400Z",
     "start_time": "2024-11-20T10:55:58.991651100Z"
    }
   },
   "outputs": [
    {
     "name": "stdout",
     "output_type": "stream",
     "text": [
      "<class 'pandas.core.frame.DataFrame'>\n",
      "RangeIndex: 10 entries, 0 to 9\n",
      "Data columns (total 6 columns):\n",
      " #   Column                       Non-Null Count  Dtype         \n",
      "---  ------                       --------------  -----         \n",
      " 0   date                         10 non-null     datetime64[ns]\n",
      " 1   temperature_2m_mean          10 non-null     float32       \n",
      " 2   precipitation_sum            10 non-null     float32       \n",
      " 3   wind_speed_10m_max           10 non-null     float32       \n",
      " 4   wind_direction_10m_dominant  10 non-null     float32       \n",
      " 5   city                         10 non-null     object        \n",
      "dtypes: datetime64[ns](1), float32(4), object(1)\n",
      "memory usage: 448.0+ bytes\n"
     ]
    }
   ],
   "source": [
    "daily_df.info()"
   ]
  },
  {
   "cell_type": "markdown",
   "id": "4e1f5008",
   "metadata": {
    "tags": []
   },
   "source": [
    "## <span style=\"color:#ff5f27;\">⬆️ Uploading new data to the Feature Store</span>"
   ]
  },
  {
   "cell_type": "code",
   "execution_count": 9,
   "id": "1a9de5ba",
   "metadata": {
    "ExecuteTime": {
     "end_time": "2024-11-20T10:56:08.647106100Z",
     "start_time": "2024-11-20T10:55:59.005020800Z"
    }
   },
   "outputs": [
    {
     "name": "stdout",
     "output_type": "stream",
     "text": [
      "2024-11-20 11:55:59,176 INFO: \t1 expectation(s) included in expectation_suite.\n",
      "Validation succeeded.\n",
      "Validation Report saved successfully, explore a summary at https://c.app.hopsworks.ai:443/p/1169561/fs/1160264/fg/1351119\n"
     ]
    },
    {
     "data": {
      "text/plain": "Uploading Dataframe: 0.00% |          | Rows 0/1 | Elapsed Time: 00:00 | Remaining Time: ?",
      "application/vnd.jupyter.widget-view+json": {
       "version_major": 2,
       "version_minor": 0,
       "model_id": "88a286bb6f354b46b5852018a9ac60b6"
      }
     },
     "metadata": {},
     "output_type": "display_data"
    },
    {
     "name": "stdout",
     "output_type": "stream",
     "text": [
      "Launching job: air_quality_1_offline_fg_materialization\n",
      "Job started successfully, you can follow the progress at \n",
      "https://c.app.hopsworks.ai/p/1169561/jobs/named/air_quality_1_offline_fg_materialization/executions\n"
     ]
    },
    {
     "data": {
      "text/plain": "(<hsfs.core.job.Job at 0x1f87ade8700>,\n {\n   \"success\": true,\n   \"results\": [\n     {\n       \"success\": true,\n       \"expectation_config\": {\n         \"expectation_type\": \"expect_column_min_to_be_between\",\n         \"kwargs\": {\n           \"column\": \"pm25\",\n           \"min_value\": -0.1,\n           \"max_value\": 500.0,\n           \"strict_min\": true\n         },\n         \"meta\": {\n           \"expectationId\": 675003\n         }\n       },\n       \"result\": {\n         \"observed_value\": 5.0,\n         \"element_count\": 1,\n         \"missing_count\": null,\n         \"missing_percent\": null\n       },\n       \"meta\": {\n         \"ingestionResult\": \"INGESTED\",\n         \"validationTime\": \"2024-11-20T10:55:59.000176Z\"\n       },\n       \"exception_info\": {\n         \"raised_exception\": false,\n         \"exception_message\": null,\n         \"exception_traceback\": null\n       }\n     }\n   ],\n   \"evaluation_parameters\": {},\n   \"statistics\": {\n     \"evaluated_expectations\": 1,\n     \"successful_expectations\": 1,\n     \"unsuccessful_expectations\": 0,\n     \"success_percent\": 100.0\n   },\n   \"meta\": {\n     \"great_expectations_version\": \"0.18.12\",\n     \"expectation_suite_name\": \"aq_expectation_suite\",\n     \"run_id\": {\n       \"run_name\": null,\n       \"run_time\": \"2024-11-20T11:55:59.176613+01:00\"\n     },\n     \"batch_kwargs\": {\n       \"ge_batch_id\": \"06891562-a72e-11ef-a8ec-286b35922a33\"\n     },\n     \"batch_markers\": {},\n     \"batch_parameters\": {},\n     \"validation_time\": \"20241120T105559.176613Z\",\n     \"expectation_suite_meta\": {\n       \"great_expectations_version\": \"0.18.12\"\n     }\n   }\n })"
     },
     "execution_count": 9,
     "metadata": {},
     "output_type": "execute_result"
    }
   ],
   "source": [
    "# Insert new data\n",
    "air_quality_fg.insert(aq_today_df)"
   ]
  },
  {
   "cell_type": "code",
   "execution_count": 10,
   "id": "d491b0a0",
   "metadata": {
    "ExecuteTime": {
     "end_time": "2024-11-20T10:56:18.251930800Z",
     "start_time": "2024-11-20T10:56:08.649106600Z"
    }
   },
   "outputs": [
    {
     "name": "stdout",
     "output_type": "stream",
     "text": [
      "2024-11-20 11:56:08,809 INFO: \t2 expectation(s) included in expectation_suite.\n",
      "Validation succeeded.\n",
      "Validation Report saved successfully, explore a summary at https://c.app.hopsworks.ai:443/p/1169561/fs/1160264/fg/1351120\n"
     ]
    },
    {
     "data": {
      "text/plain": "Uploading Dataframe: 0.00% |          | Rows 0/10 | Elapsed Time: 00:00 | Remaining Time: ?",
      "application/vnd.jupyter.widget-view+json": {
       "version_major": 2,
       "version_minor": 0,
       "model_id": "e6e653323dd741e681377f63a9c02520"
      }
     },
     "metadata": {},
     "output_type": "display_data"
    },
    {
     "name": "stdout",
     "output_type": "stream",
     "text": [
      "Launching job: weather_1_offline_fg_materialization\n",
      "Job started successfully, you can follow the progress at \n",
      "https://c.app.hopsworks.ai/p/1169561/jobs/named/weather_1_offline_fg_materialization/executions\n"
     ]
    },
    {
     "data": {
      "text/plain": "(<hsfs.core.job.Job at 0x1f87ade98d0>,\n {\n   \"success\": true,\n   \"results\": [\n     {\n       \"success\": true,\n       \"expectation_config\": {\n         \"expectation_type\": \"expect_column_min_to_be_between\",\n         \"kwargs\": {\n           \"column\": \"wind_speed_10m_max\",\n           \"min_value\": -0.1,\n           \"max_value\": 1000.0,\n           \"strict_min\": true\n         },\n         \"meta\": {\n           \"expectationId\": 675004\n         }\n       },\n       \"result\": {\n         \"observed_value\": 2.099142551422119,\n         \"element_count\": 10,\n         \"missing_count\": null,\n         \"missing_percent\": null\n       },\n       \"meta\": {\n         \"ingestionResult\": \"INGESTED\",\n         \"validationTime\": \"2024-11-20T10:56:08.000809Z\"\n       },\n       \"exception_info\": {\n         \"raised_exception\": false,\n         \"exception_message\": null,\n         \"exception_traceback\": null\n       }\n     },\n     {\n       \"success\": true,\n       \"expectation_config\": {\n         \"expectation_type\": \"expect_column_min_to_be_between\",\n         \"kwargs\": {\n           \"column\": \"precipitation_sum\",\n           \"min_value\": -0.1,\n           \"max_value\": 1000.0,\n           \"strict_min\": true\n         },\n         \"meta\": {\n           \"expectationId\": 675005\n         }\n       },\n       \"result\": {\n         \"observed_value\": 0.0,\n         \"element_count\": 10,\n         \"missing_count\": null,\n         \"missing_percent\": null\n       },\n       \"meta\": {\n         \"ingestionResult\": \"INGESTED\",\n         \"validationTime\": \"2024-11-20T10:56:08.000809Z\"\n       },\n       \"exception_info\": {\n         \"raised_exception\": false,\n         \"exception_message\": null,\n         \"exception_traceback\": null\n       }\n     }\n   ],\n   \"evaluation_parameters\": {},\n   \"statistics\": {\n     \"evaluated_expectations\": 2,\n     \"successful_expectations\": 2,\n     \"unsuccessful_expectations\": 0,\n     \"success_percent\": 100.0\n   },\n   \"meta\": {\n     \"great_expectations_version\": \"0.18.12\",\n     \"expectation_suite_name\": \"weather_expectation_suite\",\n     \"run_id\": {\n       \"run_name\": null,\n       \"run_time\": \"2024-11-20T11:56:08.809680+01:00\"\n     },\n     \"batch_kwargs\": {\n       \"ge_batch_id\": \"0c46f917-a72e-11ef-8720-286b35922a33\"\n     },\n     \"batch_markers\": {},\n     \"batch_parameters\": {},\n     \"validation_time\": \"20241120T105608.809680Z\",\n     \"expectation_suite_meta\": {\n       \"great_expectations_version\": \"0.18.12\"\n     }\n   }\n })"
     },
     "execution_count": 10,
     "metadata": {},
     "output_type": "execute_result"
    }
   ],
   "source": [
    "# Insert new data\n",
    "weather_fg.insert(daily_df)"
   ]
  },
  {
   "cell_type": "markdown",
   "id": "c83e9e2d",
   "metadata": {},
   "source": [
    "## <span style=\"color:#ff5f27;\">⏭️ **Next:** Part 03: Training Pipeline\n",
    " </span> \n",
    "\n",
    "In the following notebook you will read from a feature group and create training dataset within the feature store\n"
   ]
  }
 ],
 "metadata": {
  "kernelspec": {
   "display_name": "Python 3 (ipykernel)",
   "language": "python",
   "name": "python3"
  },
  "language_info": {
   "codemirror_mode": {
    "name": "ipython",
    "version": 3
   },
   "file_extension": ".py",
   "mimetype": "text/x-python",
   "name": "python",
   "nbconvert_exporter": "python",
   "pygments_lexer": "ipython3",
   "version": "3.10.0"
  },
  "vscode": {
   "interpreter": {
    "hash": "190ea7959a836f4799545ea0f3718ade3abee093b15861ffdc25233d6ab7050e"
   }
  }
 },
 "nbformat": 4,
 "nbformat_minor": 5
}
