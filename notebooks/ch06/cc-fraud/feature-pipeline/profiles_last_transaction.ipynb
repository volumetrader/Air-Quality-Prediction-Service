{
 "cells": [
  {
   "cell_type": "code",
   "execution_count": 1,
   "id": "5ea65f27",
   "metadata": {},
   "outputs": [],
   "source": [
    "import hopsworks\n",
    "import great_expectations as ge\n",
    "from great_expectations.core import ExpectationSuite, ExpectationConfiguration\n",
    "\n",
    "import math\n",
    "import pandas as pd\n",
    "\n",
    "from features.transactions import calculate_time_delta_t_minus_1, calculate_loc_delta_t_minus_1"
   ]
  },
  {
   "cell_type": "code",
   "execution_count": 2,
   "id": "56e18259",
   "metadata": {},
   "outputs": [
    {
     "name": "stdout",
     "output_type": "stream",
     "text": [
      "Connected. Call `.close()` to terminate connection gracefully.\n",
      "\n",
      "Logged in to project, explore it here https://snurran.hops.works/p/15479\n",
      "Connected. Call `.close()` to terminate connection gracefully.\n"
     ]
    }
   ],
   "source": [
    "# Connect to the Hopsworks Feature Store\n",
    "project = hopsworks.login()\n",
    "fs = project.get_feature_store()"
   ]
  },
  {
   "cell_type": "code",
   "execution_count": 3,
   "id": "144c7a99",
   "metadata": {},
   "outputs": [],
   "source": [
    "# Read the historical transaction data\n",
    "transactions_pdf = pd.read_csv(\"../data_generation/historical_transactions.csv\", parse_dates=['datetime'])"
   ]
  },
  {
   "cell_type": "code",
   "execution_count": 4,
   "id": "7c71d057",
   "metadata": {},
   "outputs": [],
   "source": [
    "transactions_pdf = transactions_pdf[[\"datetime\", \"cc_num\", \"latitude\", 'longitude']]\n",
    "\n",
    "# cc_num is more of an account_id rather than a proper credit card number, rename the column to avoid confusion\n",
    "transactions_pdf.rename(columns={'cc_num': 'account_id', 'datetime': 'last_transaction_datetime'}, inplace=True) "
   ]
  },
  {
   "cell_type": "code",
   "execution_count": 5,
   "id": "7769cceb",
   "metadata": {},
   "outputs": [],
   "source": [
    "profiles_last_transaction_pdf = transactions_pdf.sort_values('last_transaction_datetime').groupby('account_id').tail(1)"
   ]
  },
  {
   "cell_type": "code",
   "execution_count": 6,
   "id": "09a4e0a0",
   "metadata": {},
   "outputs": [
    {
     "data": {
      "text/html": [
       "<div>\n",
       "<style scoped>\n",
       "    .dataframe tbody tr th:only-of-type {\n",
       "        vertical-align: middle;\n",
       "    }\n",
       "\n",
       "    .dataframe tbody tr th {\n",
       "        vertical-align: top;\n",
       "    }\n",
       "\n",
       "    .dataframe thead th {\n",
       "        text-align: right;\n",
       "    }\n",
       "</style>\n",
       "<table border=\"1\" class=\"dataframe\">\n",
       "  <thead>\n",
       "    <tr style=\"text-align: right;\">\n",
       "      <th></th>\n",
       "      <th>last_transaction_datetime</th>\n",
       "      <th>account_id</th>\n",
       "      <th>latitude</th>\n",
       "      <th>longitude</th>\n",
       "    </tr>\n",
       "  </thead>\n",
       "  <tbody>\n",
       "    <tr>\n",
       "      <th>46092</th>\n",
       "      <td>2024-05-30 14:54:28</td>\n",
       "      <td>77025ad95578f857bd6a7390b92e8682</td>\n",
       "      <td>39.717340</td>\n",
       "      <td>-74.969330</td>\n",
       "    </tr>\n",
       "    <tr>\n",
       "      <th>47607</th>\n",
       "      <td>2024-06-04 14:30:15</td>\n",
       "      <td>018ff07230cc505876224e941dfd6096</td>\n",
       "      <td>42.527870</td>\n",
       "      <td>-70.928660</td>\n",
       "    </tr>\n",
       "    <tr>\n",
       "      <th>48423</th>\n",
       "      <td>2024-06-07 08:02:31</td>\n",
       "      <td>7d772777e1409e7191e646e58811b444</td>\n",
       "      <td>39.334270</td>\n",
       "      <td>-76.439410</td>\n",
       "    </tr>\n",
       "    <tr>\n",
       "      <th>48710</th>\n",
       "      <td>2024-06-08 07:47:30</td>\n",
       "      <td>858eeba131592e1a20bba8a83290feb9</td>\n",
       "      <td>31.845680</td>\n",
       "      <td>-102.367640</td>\n",
       "    </tr>\n",
       "    <tr>\n",
       "      <th>62072</th>\n",
       "      <td>2024-06-08 20:12:56</td>\n",
       "      <td>46625b13e486eddd36653c86357b99e5</td>\n",
       "      <td>29.657426</td>\n",
       "      <td>-82.316532</td>\n",
       "    </tr>\n",
       "    <tr>\n",
       "      <th>...</th>\n",
       "      <td>...</td>\n",
       "      <td>...</td>\n",
       "      <td>...</td>\n",
       "      <td>...</td>\n",
       "    </tr>\n",
       "    <tr>\n",
       "      <th>53995</th>\n",
       "      <td>2024-06-25 22:45:14</td>\n",
       "      <td>71884f7fc735581e5151d76e61e22740</td>\n",
       "      <td>35.052660</td>\n",
       "      <td>-78.878360</td>\n",
       "    </tr>\n",
       "    <tr>\n",
       "      <th>53996</th>\n",
       "      <td>2024-06-25 22:48:04</td>\n",
       "      <td>3f6bf7522fe533c8ba0c802d14197bf2</td>\n",
       "      <td>33.352830</td>\n",
       "      <td>-111.789030</td>\n",
       "    </tr>\n",
       "    <tr>\n",
       "      <th>53997</th>\n",
       "      <td>2024-06-25 22:50:19</td>\n",
       "      <td>b27647b73dcc913bf07f58ab066e32e8</td>\n",
       "      <td>42.583420</td>\n",
       "      <td>-71.802300</td>\n",
       "    </tr>\n",
       "    <tr>\n",
       "      <th>53998</th>\n",
       "      <td>2024-06-25 22:53:33</td>\n",
       "      <td>0eea379415b6009b54f528c1f79a78f9</td>\n",
       "      <td>40.557600</td>\n",
       "      <td>-74.284590</td>\n",
       "    </tr>\n",
       "    <tr>\n",
       "      <th>53999</th>\n",
       "      <td>2024-06-25 22:55:20</td>\n",
       "      <td>917e607d8d272a11f62d37f7a5387804</td>\n",
       "      <td>34.639150</td>\n",
       "      <td>-120.457940</td>\n",
       "    </tr>\n",
       "  </tbody>\n",
       "</table>\n",
       "<p>1000 rows × 4 columns</p>\n",
       "</div>"
      ],
      "text/plain": [
       "      last_transaction_datetime                        account_id   latitude  \\\n",
       "46092       2024-05-30 14:54:28  77025ad95578f857bd6a7390b92e8682  39.717340   \n",
       "47607       2024-06-04 14:30:15  018ff07230cc505876224e941dfd6096  42.527870   \n",
       "48423       2024-06-07 08:02:31  7d772777e1409e7191e646e58811b444  39.334270   \n",
       "48710       2024-06-08 07:47:30  858eeba131592e1a20bba8a83290feb9  31.845680   \n",
       "62072       2024-06-08 20:12:56  46625b13e486eddd36653c86357b99e5  29.657426   \n",
       "...                         ...                               ...        ...   \n",
       "53995       2024-06-25 22:45:14  71884f7fc735581e5151d76e61e22740  35.052660   \n",
       "53996       2024-06-25 22:48:04  3f6bf7522fe533c8ba0c802d14197bf2  33.352830   \n",
       "53997       2024-06-25 22:50:19  b27647b73dcc913bf07f58ab066e32e8  42.583420   \n",
       "53998       2024-06-25 22:53:33  0eea379415b6009b54f528c1f79a78f9  40.557600   \n",
       "53999       2024-06-25 22:55:20  917e607d8d272a11f62d37f7a5387804  34.639150   \n",
       "\n",
       "        longitude  \n",
       "46092  -74.969330  \n",
       "47607  -70.928660  \n",
       "48423  -76.439410  \n",
       "48710 -102.367640  \n",
       "62072  -82.316532  \n",
       "...           ...  \n",
       "53995  -78.878360  \n",
       "53996 -111.789030  \n",
       "53997  -71.802300  \n",
       "53998  -74.284590  \n",
       "53999 -120.457940  \n",
       "\n",
       "[1000 rows x 4 columns]"
      ]
     },
     "execution_count": 6,
     "metadata": {},
     "output_type": "execute_result"
    }
   ],
   "source": [
    "profiles_last_transaction_pdf"
   ]
  },
  {
   "cell_type": "code",
   "execution_count": 7,
   "id": "e40dd52e",
   "metadata": {},
   "outputs": [],
   "source": [
    "# Create the feature group metadata\n",
    "profiles_last_transaction_fg = fs.get_or_create_feature_group(\n",
    "    name=\"profiles_last_transaction\",\n",
    "    version=1,\n",
    "    description=\"Last transaction time and location for each account\",\n",
    "    primary_key=['account_id'],\n",
    "    event_time='last_transaction_datetime',\n",
    "    online_enabled=True,\n",
    "    statistics_config={'histograms': True, 'correlations': True}\n",
    ")"
   ]
  },
  {
   "cell_type": "code",
   "execution_count": 8,
   "id": "0641e59f",
   "metadata": {},
   "outputs": [
    {
     "name": "stdout",
     "output_type": "stream",
     "text": [
      "Feature Group created successfully, explore it at \n",
      "https://snurran.hops.works/p/15479/fs/15427/fg/16399\n"
     ]
    },
    {
     "data": {
      "application/vnd.jupyter.widget-view+json": {
       "model_id": "ee6f7701bc1c4838b69aa747c7cd7900",
       "version_major": 2,
       "version_minor": 0
      },
      "text/plain": [
       "Uploading Dataframe: 0.00% |          | Rows 0/1000 | Elapsed Time: 00:00 | Remaining Time: ?"
      ]
     },
     "metadata": {},
     "output_type": "display_data"
    },
    {
     "name": "stdout",
     "output_type": "stream",
     "text": [
      "Launching job: profiles_last_transaction_1_offline_fg_materialization\n",
      "Job started successfully, you can follow the progress at \n",
      "https://snurran.hops.works/p/15479/jobs/named/profiles_last_transaction_1_offline_fg_materialization/executions\n"
     ]
    },
    {
     "data": {
      "text/plain": [
       "(<hsfs.core.job.Job at 0x7ff1cbbeff40>, None)"
      ]
     },
     "execution_count": 8,
     "metadata": {},
     "output_type": "execute_result"
    }
   ],
   "source": [
    "# Insert data into feature group\n",
    "profiles_last_transaction_fg.insert(profiles_last_transaction_pdf)"
   ]
  },
  {
   "cell_type": "code",
   "execution_count": null,
   "id": "4573cb13",
   "metadata": {},
   "outputs": [],
   "source": []
  }
 ],
 "metadata": {
  "kernelspec": {
   "display_name": "Python 3 (ipykernel)",
   "language": "python",
   "name": "python3"
  },
  "language_info": {
   "codemirror_mode": {
    "name": "ipython",
    "version": 3
   },
   "file_extension": ".py",
   "mimetype": "text/x-python",
   "name": "python",
   "nbconvert_exporter": "python",
   "pygments_lexer": "ipython3",
   "version": "3.10.0"
  }
 },
 "nbformat": 4,
 "nbformat_minor": 5
}
