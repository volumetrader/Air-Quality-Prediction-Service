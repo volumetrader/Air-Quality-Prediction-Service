{
 "cells": [
  {
   "cell_type": "code",
   "execution_count": 1,
   "id": "2836ab38",
   "metadata": {},
   "outputs": [],
   "source": [
    "import hopsworks"
   ]
  },
  {
   "cell_type": "code",
   "execution_count": 2,
   "id": "46c08ab6",
   "metadata": {},
   "outputs": [
    {
     "name": "stdout",
     "output_type": "stream",
     "text": [
      "Connected. Call `.close()` to terminate connection gracefully.\n",
      "\n",
      "Logged in to project, explore it here https://snurran.hops.works/p/15479\n",
      "Connected. Call `.close()` to terminate connection gracefully.\n"
     ]
    }
   ],
   "source": [
    "# Connect to the Hopsworks Feature Store\n",
    "project = hopsworks.login()\n",
    "fs = project.get_feature_store()"
   ]
  },
  {
   "cell_type": "code",
   "execution_count": 3,
   "id": "511e7fae",
   "metadata": {},
   "outputs": [
    {
     "name": "stdout",
     "output_type": "stream",
     "text": [
      "Connection closed.\n",
      "Connected. Call `.close()` to terminate connection gracefully.\n",
      "\n",
      "Logged in to project, explore it here https://snurran.hops.works/p/15479\n",
      "Connected. Call `.close()` to terminate connection gracefully.\n",
      "Feature Group created successfully, explore it at \n",
      "https://snurran.hops.works/p/15479/fs/15427/fg/16400\n"
     ]
    },
    {
     "data": {
      "text/plain": [
       "(None, None)"
      ]
     },
     "execution_count": 3,
     "metadata": {},
     "output_type": "execute_result"
    }
   ],
   "source": [
    "from hsfs.feature import Feature\n",
    "\n",
    "project = hopsworks.login()\n",
    "fs = project.get_feature_store()\n",
    "\n",
    "# Setup the feature groups for the bytewax pipelines\n",
    "features = [\n",
    "    Feature(name=\"account_id\", type=\"string\"),\n",
    "    Feature(name=\"timestamp\", type=\"timestamp\"),\n",
    "    Feature(name=\"count\", description=\"Number of transactions in the last 5 minutes\", type=\"int\"),\n",
    "    Feature(name=\"min_amount\", description=\"Min transaction amount in the last 5 minutes\", type=\"float\"),\n",
    "    Feature(name=\"max_amount\", description=\"Max transaction amount in the last 5 minutes\", type=\"float\"),\n",
    "    Feature(name=\"mean\", description=\"Mean transaction amount in the last 5 minutes\", type=\"float\")\n",
    "]\n",
    "\n",
    "fg = fs.create_feature_group(\n",
    "    name=\"c\",\n",
    "    description=\"Profiles activity within the last 5 minutes\",\n",
    "    version=1,\n",
    "    primary_key=[\"account_id\"],\n",
    "    event_time=\"timestamp\",\n",
    "    statistics_config={'histograms': True, 'correlations': True},\n",
    "    online_enabled=True,\n",
    ")\n",
    "\n",
    "fg.save(features)"
   ]
  },
  {
   "cell_type": "code",
   "execution_count": null,
   "id": "bada9c26",
   "metadata": {},
   "outputs": [],
   "source": []
  }
 ],
 "metadata": {
  "kernelspec": {
   "display_name": "Python 3 (ipykernel)",
   "language": "python",
   "name": "python3"
  },
  "language_info": {
   "codemirror_mode": {
    "name": "ipython",
    "version": 3
   },
   "file_extension": ".py",
   "mimetype": "text/x-python",
   "name": "python",
   "nbconvert_exporter": "python",
   "pygments_lexer": "ipython3",
   "version": "3.10.0"
  }
 },
 "nbformat": 4,
 "nbformat_minor": 5
}
