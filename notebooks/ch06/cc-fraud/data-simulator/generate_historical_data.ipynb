{
 "cells": [
  {
   "cell_type": "code",
   "execution_count": 2,
   "id": "14272cfd",
   "metadata": {},
   "outputs": [
    {
     "name": "stdout",
     "output_type": "stream",
     "text": [
      "\u001b[33mWARNING: Running pip as the 'root' user can result in broken permissions and conflicting behaviour with the system package manager. It is recommended to use a virtual environment instead: https://pip.pypa.io/warnings/venv\u001b[0m\u001b[33m\n",
      "\u001b[0m"
     ]
    }
   ],
   "source": [
    "!pip install faker --quiet"
   ]
  },
  {
   "cell_type": "code",
   "execution_count": 3,
   "id": "e10e66d3",
   "metadata": {},
   "outputs": [],
   "source": [
    "from transactions import get_transactions"
   ]
  },
  {
   "cell_type": "code",
   "execution_count": 4,
   "id": "a8cbb57c",
   "metadata": {},
   "outputs": [],
   "source": [
    "trans_df, fraud_labels, profiles_df = get_transactions()"
   ]
  },
  {
   "cell_type": "code",
   "execution_count": 5,
   "id": "a3bfa0c5",
   "metadata": {},
   "outputs": [],
   "source": [
    "historical_transactions_df = trans_df.merge(fraud_labels)"
   ]
  },
  {
   "cell_type": "code",
   "execution_count": 6,
   "id": "f53622b7",
   "metadata": {},
   "outputs": [],
   "source": [
    "historical_transactions_df.to_csv(\"historical_transactions.csv\")"
   ]
  },
  {
   "cell_type": "code",
   "execution_count": 7,
   "id": "55e483a0",
   "metadata": {},
   "outputs": [],
   "source": [
    "profiles_df.to_csv(\"kyc.csv\")"
   ]
  },
  {
   "cell_type": "code",
   "execution_count": null,
   "id": "62f58cb6",
   "metadata": {},
   "outputs": [],
   "source": []
  }
 ],
 "metadata": {
  "kernelspec": {
   "display_name": "Python 3 (ipykernel)",
   "language": "python",
   "name": "python3"
  },
  "language_info": {
   "codemirror_mode": {
    "name": "ipython",
    "version": 3
   },
   "file_extension": ".py",
   "mimetype": "text/x-python",
   "name": "python",
   "nbconvert_exporter": "python",
   "pygments_lexer": "ipython3",
   "version": "3.10.0"
  }
 },
 "nbformat": 4,
 "nbformat_minor": 5
}
