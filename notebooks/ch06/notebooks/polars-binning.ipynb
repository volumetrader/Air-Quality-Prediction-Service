{
 "cells": [
  {
   "cell_type": "code",
   "execution_count": 10,
   "id": "d3e3d91a-ba50-4ba0-b44c-af6fbe85e330",
   "metadata": {},
   "outputs": [
    {
     "data": {
      "text/html": [
       "<div><style>\n",
       ".dataframe > thead > tr,\n",
       ".dataframe > tbody > tr {\n",
       "  text-align: right;\n",
       "  white-space: pre-wrap;\n",
       "}\n",
       "</style>\n",
       "<small>shape: (8, 2)</small><table border=\"1\" class=\"dataframe\"><thead><tr><th>days</th><th>bin</th></tr><tr><td>i64</td><td>cat</td></tr></thead><tbody><tr><td>1</td><td>&quot;(0, 1]&quot;</td></tr><tr><td>3</td><td>&quot;(1, 10]&quot;</td></tr><tr><td>22</td><td>&quot;(10, 30]&quot;</td></tr><tr><td>33</td><td>&quot;(30, 180]&quot;</td></tr><tr><td>88</td><td>&quot;(30, 180]&quot;</td></tr><tr><td>150</td><td>&quot;(30, 180]&quot;</td></tr><tr><td>180</td><td>&quot;(30, 180]&quot;</td></tr><tr><td>999</td><td>&quot;(180, 10000]&quot;</td></tr></tbody></table></div>"
      ],
      "text/plain": [
       "shape: (8, 2)\n",
       "┌──────┬──────────────┐\n",
       "│ days ┆ bin          │\n",
       "│ ---  ┆ ---          │\n",
       "│ i64  ┆ cat          │\n",
       "╞══════╪══════════════╡\n",
       "│ 1    ┆ (0, 1]       │\n",
       "│ 3    ┆ (1, 10]      │\n",
       "│ 22   ┆ (10, 30]     │\n",
       "│ 33   ┆ (30, 180]    │\n",
       "│ 88   ┆ (30, 180]    │\n",
       "│ 150  ┆ (30, 180]    │\n",
       "│ 180  ┆ (30, 180]    │\n",
       "│ 999  ┆ (180, 10000] │\n",
       "└──────┴──────────────┘"
      ]
     },
     "execution_count": 10,
     "metadata": {},
     "output_type": "execute_result"
    }
   ],
   "source": [
    "import polars as pl\n",
    "\n",
    "days = [1, 3, 22, 33, 88, 150, 180, 999]\n",
    "bins = [0, 1, 10, 30, 180, 10000]\n",
    "\n",
    "df = pl.DataFrame({'days': days})\n",
    "df = df.with_columns(bin=pl.col('days').cut(bins))\n",
    "df"
   ]
  },
  {
   "cell_type": "code",
   "execution_count": null,
   "id": "5f2ffb41-fab7-4ec2-8659-f3de8b699d84",
   "metadata": {},
   "outputs": [],
   "source": []
  }
 ],
 "metadata": {
  "kernelspec": {
   "display_name": "Python 3 (ipykernel)",
   "language": "python",
   "name": "python3"
  },
  "language_info": {
   "codemirror_mode": {
    "name": "ipython",
    "version": 3
   },
   "file_extension": ".py",
   "mimetype": "text/x-python",
   "name": "python",
   "nbconvert_exporter": "python",
   "pygments_lexer": "ipython3",
   "version": "3.10.0"
  }
 },
 "nbformat": 4,
 "nbformat_minor": 5
}
